{
 "metadata": {
  "language_info": {
   "codemirror_mode": {
    "name": "ipython",
    "version": 3
   },
   "file_extension": ".py",
   "mimetype": "text/x-python",
   "name": "python",
   "nbconvert_exporter": "python",
   "pygments_lexer": "ipython3",
   "version": "3.8.2-final"
  },
  "orig_nbformat": 2,
  "kernelspec": {
   "name": "python3",
   "display_name": "Python 3",
   "language": "python"
  }
 },
 "nbformat": 4,
 "nbformat_minor": 2,
 "cells": [
  {
   "cell_type": "code",
   "execution_count": 1,
   "metadata": {},
   "outputs": [],
   "source": [
    "import calendar"
   ]
  },
  {
   "cell_type": "code",
   "execution_count": 2,
   "metadata": {},
   "outputs": [],
   "source": [
    "cale = calendar.Calendar(-1)"
   ]
  },
  {
   "cell_type": "code",
   "execution_count": 5,
   "metadata": {},
   "outputs": [
    {
     "output_type": "execute_result",
     "data": {
      "text/plain": [
       "[[datetime.date(2021, 1, 31),\n",
       "  datetime.date(2021, 2, 1),\n",
       "  datetime.date(2021, 2, 2),\n",
       "  datetime.date(2021, 2, 3),\n",
       "  datetime.date(2021, 2, 4),\n",
       "  datetime.date(2021, 2, 5),\n",
       "  datetime.date(2021, 2, 6)],\n",
       " [datetime.date(2021, 2, 7),\n",
       "  datetime.date(2021, 2, 8),\n",
       "  datetime.date(2021, 2, 9),\n",
       "  datetime.date(2021, 2, 10),\n",
       "  datetime.date(2021, 2, 11),\n",
       "  datetime.date(2021, 2, 12),\n",
       "  datetime.date(2021, 2, 13)],\n",
       " [datetime.date(2021, 2, 14),\n",
       "  datetime.date(2021, 2, 15),\n",
       "  datetime.date(2021, 2, 16),\n",
       "  datetime.date(2021, 2, 17),\n",
       "  datetime.date(2021, 2, 18),\n",
       "  datetime.date(2021, 2, 19),\n",
       "  datetime.date(2021, 2, 20)],\n",
       " [datetime.date(2021, 2, 21),\n",
       "  datetime.date(2021, 2, 22),\n",
       "  datetime.date(2021, 2, 23),\n",
       "  datetime.date(2021, 2, 24),\n",
       "  datetime.date(2021, 2, 25),\n",
       "  datetime.date(2021, 2, 26),\n",
       "  datetime.date(2021, 2, 27)],\n",
       " [datetime.date(2021, 2, 28),\n",
       "  datetime.date(2021, 3, 1),\n",
       "  datetime.date(2021, 3, 2),\n",
       "  datetime.date(2021, 3, 3),\n",
       "  datetime.date(2021, 3, 4),\n",
       "  datetime.date(2021, 3, 5),\n",
       "  datetime.date(2021, 3, 6)]]"
      ]
     },
     "metadata": {},
     "execution_count": 5
    }
   ],
   "source": [
    "cale.monthdatescalendar(2021, 2)"
   ]
  },
  {
   "cell_type": "code",
   "execution_count": null,
   "metadata": {},
   "outputs": [],
   "source": []
  }
 ]
}